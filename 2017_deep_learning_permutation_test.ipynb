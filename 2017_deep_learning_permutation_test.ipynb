{
 "cells": [
  {
   "cell_type": "code",
   "execution_count": null,
   "metadata": {
    "collapsed": true
   },
   "outputs": [],
   "source": [
    "from sklearn.model_selection import ShuffleSplit\n",
    "from sklearn.model_selection import cross_val_score\n",
    "from sklearn import svm\n",
    "import numpy as np\n",
    "from sklearn.model_selection import train_test_split\n",
    "from sklearn.model_selection import GridSearchCV\n",
    "from sklearn.svm import SVC\n",
    "from sklearn.decomposition import PCA\n",
    "from sklearn.utils import shuffle\n",
    "from sklearn.model_selection import StratifiedKFold\n",
    "from sklearn.model_selection import permutation_test_score"
   ]
  },
  {
   "cell_type": "code",
   "execution_count": null,
   "metadata": {
    "collapsed": true
   },
   "outputs": [],
   "source": [
    "#six way classification \n",
    "#original one \n",
    "gb='good'\n",
    "layer_list=['fc8']\n",
    "#layer_list=['conv1','conv2','conv3','conv4','conv5','fc6','fc7','fc8']\n",
    "clf = svm.SVC(kernel='linear', C=1)   \n",
    "cv = ShuffleSplit(n_splits=10, test_size=0.1, random_state=0)\n",
    "y_good=[1]*27+[2]*31+[3]*39+[4]*46+[5]*25+[6]*42\n",
    "y_good=np.asarray(y_good)\n",
    "y_bad=[1]*34+[2]*39+[3]*32+[4]*31+[5]*42+[6]*32\n",
    "y_bad=np.asarray(y_bad)\n",
    "if gb=='good':\n",
    "    y=y_good\n",
    "    for layer in layer_list:\n",
    "        list0= open('/Users/sczha/Documents/RESEARCH/features/'+gb+\"/\"+gb+\"_\"+layer+\".txt\", \"r\")\n",
    "        X_good=[]\n",
    "        for line in list0:\n",
    "            X_good.append(line.split())\n",
    "        X_good=[[float(j) for j in i] for i in X_good]\n",
    "        X_good=np.asarray(X_good)\n",
    "        X=X_good\n",
    "        score_good=cross_val_score(clf, X, y, cv=cv)\n",
    "#         print(layer)\n",
    "#         print(score_good)\n",
    "#         print(score_good.mean())\n",
    "else:\n",
    "    y=y_bad\n",
    "    for layer in layer_list:\n",
    "        list0= open('/Users/sczha/Documents/RESEARCH/features/'+gb+\"/\"+gb+\"_\"+layer+\".txt\", \"r\")\n",
    "        X_bad=[]\n",
    "        for line in list0:\n",
    "            X_bad.append(line.split())\n",
    "        X_bad=[[float(j) for j in i] for i in X_bad]\n",
    "        X_bad=np.asarray(X_bad)\n",
    "        X=X_bad\n",
    "        score_bad=cross_val_score(clf, X, y, cv=cv)\n",
    "#         print(layer)\n",
    "#         print(score_bad)\n",
    "#         print(score_bad.mean())"
   ]
  },
  {
   "cell_type": "code",
   "execution_count": null,
   "metadata": {
    "collapsed": true
   },
   "outputs": [],
   "source": [
    "svm = SVC(kernel='linear')\n",
    "score, permutation_scores, pvalue=permutation_test_score(svm, X, y, scoring=\"accuracy\", cv=cv, n_permutations=100, n_jobs=1)\n",
    "print(score)\n",
    "print(permutation_scores.mean())\n",
    "print(pvalue)\n",
    "#-----fc7--------\n",
    "# 0.980952380952\n",
    "# 0.172238095238\n",
    "# 0.00990099009901\n",
    "#-----fc8--------\n",
    "#0.971428571429\n",
    "#0.170952380952\n",
    "#0.00990099009901"
   ]
  }
 ],
 "metadata": {
  "kernelspec": {
   "display_name": "Python 3",
   "language": "python",
   "name": "python3"
  },
  "language_info": {
   "codemirror_mode": {
    "name": "ipython",
    "version": 3
   },
   "file_extension": ".py",
   "mimetype": "text/x-python",
   "name": "python",
   "nbconvert_exporter": "python",
   "pygments_lexer": "ipython3",
   "version": "3.6.0"
  }
 },
 "nbformat": 4,
 "nbformat_minor": 2
}
