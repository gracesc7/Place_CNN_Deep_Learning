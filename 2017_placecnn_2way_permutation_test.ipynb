{
 "cells": [
  {
   "cell_type": "code",
   "execution_count": 1,
   "metadata": {
    "collapsed": true
   },
   "outputs": [],
   "source": [
    "from sklearn.model_selection import ShuffleSplit\n",
    "from sklearn.model_selection import cross_val_score\n",
    "from sklearn import svm\n",
    "import numpy as np\n",
    "from sklearn.model_selection import train_test_split\n",
    "from sklearn.svm import SVC\n",
    "from sklearn.utils import shuffle\n",
    "from sklearn.model_selection import StratifiedKFold\n",
    "from sklearn.model_selection import permutation_test_score"
   ]
  },
  {
   "cell_type": "code",
   "execution_count": 4,
   "metadata": {
    "collapsed": false
   },
   "outputs": [
    {
     "name": "stdout",
     "output_type": "stream",
     "text": [
      "0.554880952381\n"
     ]
    }
   ],
   "source": [
    "print score5"
   ]
  },
  {
   "cell_type": "code",
   "execution_count": 2,
   "metadata": {
    "collapsed": false
   },
   "outputs": [
    {
     "name": "stdout",
     "output_type": "stream",
     "text": [
      "conv1\n",
      "conv2\n",
      "conv3\n",
      "conv4\n",
      "conv5\n",
      "fc6\n",
      "fc7\n",
      "fc8\n"
     ]
    }
   ],
   "source": [
    "layer_list=['conv1','conv2','conv3','conv4','conv5','fc6','fc7','fc8']\n",
    "clf = svm.SVC(kernel='linear', C=2.03)   \n",
    "cv = ShuffleSplit(n_splits=10, test_size=0.1, random_state=0)\n",
    "y=[1]*210+[0]*210\n",
    "y=np.asarray(y)\n",
    "score_dict={}\n",
    "for layer in layer_list:\n",
    "    list1 = open(\"/Users/manoj/good_bad_placecnn/features/good/good_\"+layer+\".txt\", \"r\")   \n",
    "    X_good=[]\n",
    "    for line in list1 :\n",
    "        X_good.append(line.split())\n",
    "    X_good=[[float(j) for j in i] for i in X_good] \n",
    "    list0= open(\"/Users/manoj/good_bad_placecnn/features/bad/bad_\"+layer+\".txt\", \"r\")   \n",
    "    X_bad=[]\n",
    "    for line in list0:\n",
    "        X_bad.append(line.split())\n",
    "    X_bad=[[float(j) for j in i] for i in X_bad]\n",
    "    X_good.extend(X_bad)\n",
    "    X=np.asarray(X_good)\n",
    "    svm = SVC(kernel='linear')\n",
    "    score, permutation_scores, pvalue=permutation_test_score(svm, X, y, scoring=\"accuracy\", cv=cv, n_permutations=1000, n_jobs=1)\n",
    "    score5=np.percentile(permutation_scores,95)\n",
    "    score_dict.update({layer:score5})\n",
    "    print layer "
   ]
  },
  {
   "cell_type": "code",
   "execution_count": 5,
   "metadata": {
    "collapsed": false
   },
   "outputs": [
    {
     "name": "stdout",
     "output_type": "stream",
     "text": [
      "{'conv3': 0.55952380952380953, 'conv2': 0.55476190476190479, 'conv1': 0.55476190476190479, 'fc6': 0.55714285714285716, 'conv5': 0.55952380952380953, 'conv4': 0.55714285714285716, 'fc8': 0.55488095238095225, 'fc7': 0.55714285714285716}\n"
     ]
    }
   ],
   "source": [
    "print score_dict"
   ]
  },
  {
   "cell_type": "code",
   "execution_count": null,
   "metadata": {
    "collapsed": true
   },
   "outputs": [],
   "source": []
  }
 ],
 "metadata": {
  "kernelspec": {
   "display_name": "Python [conda root]",
   "language": "python",
   "name": "conda-root-py"
  },
  "language_info": {
   "codemirror_mode": {
    "name": "ipython",
    "version": 2
   },
   "file_extension": ".py",
   "mimetype": "text/x-python",
   "name": "python",
   "nbconvert_exporter": "python",
   "pygments_lexer": "ipython2",
   "version": "2.7.12"
  }
 },
 "nbformat": 4,
 "nbformat_minor": 1
}
