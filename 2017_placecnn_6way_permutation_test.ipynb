{
 "cells": [
  {
   "cell_type": "code",
   "execution_count": 11,
   "metadata": {
    "collapsed": true
   },
   "outputs": [],
   "source": [
    "from sklearn.model_selection import ShuffleSplit\n",
    "from sklearn.model_selection import cross_val_score\n",
    "from sklearn import svm\n",
    "import numpy as np\n",
    "from sklearn.model_selection import train_test_split\n",
    "from sklearn.model_selection import GridSearchCV\n",
    "from sklearn.svm import SVC\n",
    "from sklearn.decomposition import PCA\n",
    "from sklearn.utils import shuffle\n",
    "from sklearn.model_selection import StratifiedKFold\n",
    "from sklearn.model_selection import permutation_test_score"
   ]
  },
  {
   "cell_type": "code",
   "execution_count": 9,
   "metadata": {
    "collapsed": false
   },
   "outputs": [
    {
     "name": "stdout",
     "output_type": "stream",
     "text": [
      "conv1\n",
      "conv2\n",
      "conv3\n",
      "conv4\n",
      "conv5\n",
      "fc6\n",
      "fc7\n",
      "fc8\n"
     ]
    }
   ],
   "source": [
    "#six way classification \n",
    "#original one \n",
    "gb='bad'\n",
    "#gb='good'\n",
    "#layer_list=['fc7']\n",
    "layer_list=['conv1','conv2','conv3','conv4','conv5','fc6','fc7','fc8']\n",
    "clf = svm.SVC(kernel='linear', C=2.03)   \n",
    "cv = ShuffleSplit(n_splits=10, test_size=0.1, random_state=0)\n",
    "y_good=[1]*27+[2]*31+[3]*39+[4]*46+[5]*25+[6]*42\n",
    "y_good=np.asarray(y_good)\n",
    "y_bad=[1]*34+[2]*39+[3]*32+[4]*31+[5]*42+[6]*32\n",
    "y_bad=np.asarray(y_bad)\n",
    "if gb=='good':\n",
    "    score_dict_g={}\n",
    "    y=y_good\n",
    "    for layer in layer_list:\n",
    "        print layer \n",
    "        list0= open('/Users/manoj/good_bad_placecnn/features/'+gb+\"/\"+gb+\"_\"+layer+\".txt\", \"r\")\n",
    "        X_good=[]\n",
    "        for line in list0:\n",
    "            X_good.append(line.split())\n",
    "        X_good=[[float(j) for j in i] for i in X_good]\n",
    "        X_good=np.asarray(X_good)\n",
    "        X=X_good\n",
    "        score_good=cross_val_score(clf, X, y, cv=cv)\n",
    "        svm = SVC(kernel='linear')\n",
    "        score, permutation_scores, pvalue=permutation_test_score(svm, X, y, scoring=\"accuracy\", cv=cv, n_permutations=1000, n_jobs=1)\n",
    "        score5_g=np.percentile(permutation_scores,95)\n",
    "        score_dict_g.update({layer:score5_g})\n",
    "#         print(layer)\n",
    "#         print(score_good)\n",
    "#         print(score_good.mean())\n",
    "else:\n",
    "    score_dict_b={}\n",
    "    y=y_bad\n",
    "    for layer in layer_list:\n",
    "        print layer\n",
    "        list0= open('/Users/manoj/good_bad_placecnn/features/'+gb+\"/\"+gb+\"_\"+layer+\".txt\", \"r\")\n",
    "        X_bad=[]\n",
    "        for line in list0:\n",
    "            X_bad.append(line.split())\n",
    "        X_bad=[[float(j) for j in i] for i in X_bad]\n",
    "        X_bad=np.asarray(X_bad)\n",
    "        X=X_bad\n",
    "        score_bad=cross_val_score(clf, X, y, cv=cv)\n",
    "        svm = SVC(kernel='linear')\n",
    "        score, permutation_scores, pvalue=permutation_test_score(svm, X, y, scoring=\"accuracy\", cv=cv, n_permutations=1000, n_jobs=1)\n",
    "        score5_b=np.percentile(permutation_scores,95)\n",
    "        score_dict_b.update({layer:score5_b})\n",
    "\n",
    "#         print(layer)\n",
    "#         print(score_bad)\n",
    "#         print(score_bad.mean())"
   ]
  },
  {
   "cell_type": "code",
   "execution_count": 7,
   "metadata": {
    "collapsed": false,
    "scrolled": true
   },
   "outputs": [
    {
     "name": "stdout",
     "output_type": "stream",
     "text": [
      "{'conv3': 0.23809523809523808, 'conv2': 0.24285714285714283, 'conv1': 0.24285714285714283, 'fc6': 0.23333333333333331, 'conv5': 0.2428571428571428, 'conv4': 0.23809523809523808, 'fc7': 0.23333333333333331}\n"
     ]
    }
   ],
   "source": [
    "print score_dict_g"
   ]
  },
  {
   "cell_type": "code",
   "execution_count": 10,
   "metadata": {
    "collapsed": false
   },
   "outputs": [
    {
     "name": "stdout",
     "output_type": "stream",
     "text": [
      "{'conv3': 0.21904761904761902, 'conv2': 0.21904761904761907, 'conv1': 0.21904761904761902, 'fc6': 0.22380952380952376, 'conv5': 0.21904761904761907, 'conv4': 0.22380952380952376, 'fc8': 0.21904761904761902, 'fc7': 0.21928571428571408}\n"
     ]
    }
   ],
   "source": [
    "print score_dict_b"
   ]
  }
 ],
 "metadata": {
  "anaconda-cloud": {},
  "kernelspec": {
   "display_name": "Python [conda root]",
   "language": "python",
   "name": "conda-root-py"
  },
  "language_info": {
   "codemirror_mode": {
    "name": "ipython",
    "version": 2
   },
   "file_extension": ".py",
   "mimetype": "text/x-python",
   "name": "python",
   "nbconvert_exporter": "python",
   "pygments_lexer": "ipython2",
   "version": "2.7.12"
  }
 },
 "nbformat": 4,
 "nbformat_minor": 1
}
