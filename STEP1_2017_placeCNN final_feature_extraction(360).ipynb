{
 "cells": [
  {
   "cell_type": "code",
   "execution_count": 55,
   "metadata": {
    "collapsed": true
   },
   "outputs": [],
   "source": [
    "# set up Python environment: numpy for numerical routines, and matplotlib for plotting\n",
    "import numpy as np\n",
    "import matplotlib.pyplot as plt\n",
    "# display plots in this notebook\n",
    "%matplotlib inline"
   ]
  },
  {
   "cell_type": "code",
   "execution_count": 56,
   "metadata": {
    "collapsed": true
   },
   "outputs": [],
   "source": [
    "# set display defaults\n",
    "plt.rcParams['figure.figsize'] = (10, 10)        # large images\n",
    "plt.rcParams['image.interpolation'] = 'nearest'  # don't interpolate: show square pixels\n",
    "plt.rcParams['image.cmap'] = 'gray'  # use grayscale output rather than a (potentially misleading) color heatmap"
   ]
  },
  {
   "cell_type": "code",
   "execution_count": 57,
   "metadata": {
    "collapsed": true
   },
   "outputs": [],
   "source": [
    "import sys\n",
    "caffe_root = '/Users/manoj/caffe/'  # this file should be run from {caffe_root}/examples (otherwise change this line)\n",
    "sys.path.insert(0, caffe_root + 'python')\n",
    "\n",
    "import caffe\n"
   ]
  },
  {
   "cell_type": "code",
   "execution_count": 58,
   "metadata": {
    "collapsed": true
   },
   "outputs": [],
   "source": [
    "import os\n",
    "caffe.set_mode_cpu()\n"
   ]
  },
  {
   "cell_type": "code",
   "execution_count": 59,
   "metadata": {
    "collapsed": false
   },
   "outputs": [],
   "source": [
    "model_def = caffe_root + 'models/placesCNN_upgraded/places205CNN_deploy_upgraded.prototxt'\n",
    "model_weights = caffe_root + 'models/placesCNN_upgraded/places205CNN_iter_300000_upgraded.caffemodel'\n",
    "\n",
    "\n",
    "net = caffe.Net(model_def,      # defines the structure of the model\n",
    "                model_weights,  # contains the trained weights\n",
    "                caffe.TEST)     # use test mode (e.g., don't perform dropout)\n",
    "\n"
   ]
  },
  {
   "cell_type": "code",
   "execution_count": 60,
   "metadata": {
    "collapsed": true
   },
   "outputs": [],
   "source": [
    "IMAGE_WIDTH=227;\n",
    "IMAGE_HEIGHT=227;\n",
    "\n",
    "\n",
    "def transform_img(img, img_width=IMAGE_WIDTH, img_height=IMAGE_HEIGHT):\n",
    "\n",
    "\n",
    "    #Histogram Equalization\n",
    "    img[:, :, 0] = cv2.equalizeHist(img[:, :, 0])\n",
    "    img[:, :, 1] = cv2.equalizeHist(img[:, :, 1])\n",
    "    img[:, :, 2] = cv2.equalizeHist(img[:, :, 2])\n",
    "     #Image Resizing\n",
    "    img = cv2.resize(img, (img_width, img_height), interpolation = cv2.INTER_CUBIC)\n",
    "\n",
    "    return img\n",
    "def make_datum(img, label):\n",
    "\n",
    "\n",
    "    return caffe_pb2.Datum(\n",
    "        channels=3,\n",
    "        width=IMAGE_WIDTH,\n",
    "        height=IMAGE_HEIGHT,\n",
    "        label=label,\n",
    "        data=np.rollaxis(img, 2).tostring())"
   ]
  },
  {
   "cell_type": "code",
   "execution_count": 61,
   "metadata": {
    "collapsed": true
   },
   "outputs": [],
   "source": [
    "import sys\n",
    "sys.path.append('/usr/local/lib/python2.7/site-packages')\n",
    "import cv2"
   ]
  },
  {
   "cell_type": "code",
   "execution_count": 62,
   "metadata": {
    "collapsed": true
   },
   "outputs": [],
   "source": [
    "mean_blob = caffe.proto.caffe_pb2.BlobProto()"
   ]
  },
  {
   "cell_type": "code",
   "execution_count": 63,
   "metadata": {
    "collapsed": true
   },
   "outputs": [],
   "source": [
    "with open(caffe_root+'models/placesCNN_upgraded/places205CNN_mean.binaryproto') as f:\n",
    "    mean_blob.ParseFromString(f.read())\n",
    "mean_array = np.asarray(mean_blob.data, dtype=np.float32).reshape(\n",
    "    (mean_blob.channels, mean_blob.height, mean_blob.width))\n",
    "\n",
    "mean_array=mean_array.mean(1).mean(1)"
   ]
  },
  {
   "cell_type": "code",
   "execution_count": 64,
   "metadata": {
    "collapsed": true
   },
   "outputs": [],
   "source": [
    "transformer = caffe.io.Transformer({'data': net.blobs['data'].data.shape})\n",
    "transformer.set_mean('data', mean_array)\n",
    "#transformer.set_raw_scale('data',255)\n",
    "transformer.set_transpose('data', (2,0,1))\n",
    "#transformer.set_channel_swap('data', (2,1,0))  # swap channels from RGB to BGR\n"
   ]
  },
  {
   "cell_type": "code",
   "execution_count": 65,
   "metadata": {
    "collapsed": false,
    "scrolled": true
   },
   "outputs": [
    {
     "name": "stdout",
     "output_type": "stream",
     "text": [
      "(290400,)\n",
      "(186624,)\n",
      "(64896,)\n",
      "(64896,)\n",
      "(43264,)\n",
      "(4096,)\n",
      "(4096,)\n",
      "(205,)\n"
     ]
    }
   ],
   "source": [
    "#extract feature vector for good exemplars\n",
    "gb='good'\n",
    "layer_list=['conv1','conv2','conv3','conv4','conv5','fc6','fc7','fc8']\n",
    "#layer_list=['fc8']\n",
    "test_input= '/Users/manoj/good_bad_placecnn/resized'+gb+'/'\n",
    "text_file = open(test_input+gb+'_list.txt', \"r\")\n",
    "lines = text_file.readlines()\n",
    "labels_file = caffe_root + 'models/placesCNN_upgraded/categoryIndex_places205.csv'\n",
    "\n",
    "for j in layer_list:\n",
    "    featurefile= open('/Users/manoj/good_bad_placecnn/features/'+gb+\"360/\"+gb+\"_\"+j+\"_360.txt\",\"w\")\n",
    "    for i in lines:  \n",
    "        i = i.rstrip('\\n')\n",
    "        img = cv2.imread(test_input+i)\n",
    "        img = transform_img(img, img_width=IMAGE_WIDTH, img_height=IMAGE_HEIGHT)\n",
    "        net.blobs['data'].data[...] = transformer.preprocess('data', img)\n",
    "        out = net.forward()\n",
    "        out_prob = out['prob']\n",
    "        label= np.loadtxt(labels_file, str, delimiter='\\t')\n",
    "        #exec(\"%s = %d\" % (layer,2))  #convert string layer to variable layer\n",
    "        layer=j\n",
    "        nparr=net.blobs[layer].data[0].reshape(1,-1)  #numpy array of feature vector in the layer \n",
    "        nparr=nparr[0]\n",
    "        list=nparr.tolist() #convert numpy array to list \n",
    "        strlist=map(str,list)\n",
    "        string=' '.join(strlist)   # convert list to a single string \n",
    "        featurefile.write(string+\"\\n\")\n",
    "    print nparr.shape\n"
   ]
  },
  {
   "cell_type": "code",
   "execution_count": 66,
   "metadata": {
    "collapsed": false
   },
   "outputs": [
    {
     "name": "stdout",
     "output_type": "stream",
     "text": [
      "(290400,)\n",
      "(186624,)\n",
      "(64896,)\n",
      "(64896,)\n",
      "(43264,)\n",
      "(4096,)\n",
      "(4096,)\n",
      "(205,)\n"
     ]
    }
   ],
   "source": [
    "#extract feature vector for good exemplars\n",
    "gb='bad'\n",
    "layer_list=['conv1','conv2','conv3','conv4','conv5','fc6','fc7','fc8']\n",
    "#layer_list=['fc8']\n",
    "test_input= '/Users/manoj/good_bad_placecnn/resized'+gb+'/'\n",
    "text_file = open(test_input+gb+'_list.txt', \"r\")\n",
    "lines = text_file.readlines()\n",
    "labels_file = caffe_root + 'models/placesCNN_upgraded/categoryIndex_places205.csv'\n",
    "\n",
    "for j in layer_list:\n",
    "    featurefile= open('/Users/manoj/good_bad_placecnn/features/'+gb+\"360/\"+gb+\"_\"+j+\"_360.txt\",\"w\")\n",
    "    for i in lines:  \n",
    "        i = i.rstrip('\\n')\n",
    "        img = cv2.imread(test_input+i)\n",
    "        img = transform_img(img, img_width=IMAGE_WIDTH, img_height=IMAGE_HEIGHT)\n",
    "        net.blobs['data'].data[...] = transformer.preprocess('data', img)\n",
    "        out = net.forward()\n",
    "        out_prob = out['prob']\n",
    "        label= np.loadtxt(labels_file, str, delimiter='\\t')\n",
    "        #exec(\"%s = %d\" % (layer,2))  #convert string layer to variable layer\n",
    "        layer=j\n",
    "        nparr=net.blobs[layer].data[0].reshape(1,-1)  #numpy array of feature vector in the layer \n",
    "        nparr=nparr[0]\n",
    "        list=nparr.tolist() #convert numpy array to list \n",
    "        strlist=map(str,list)\n",
    "        string=' '.join(strlist)   # convert list to a single string \n",
    "        featurefile.write(string+\"\\n\")\n",
    "    print nparr.shape\n",
    "\n"
   ]
  },
  {
   "cell_type": "code",
   "execution_count": 76,
   "metadata": {
    "collapsed": false
   },
   "outputs": [
    {
     "name": "stdout",
     "output_type": "stream",
     "text": [
      "(205,)\n"
     ]
    }
   ],
   "source": [
    "#extract feature vector for good exemplars\n",
    "gb='bad'\n",
    "layer_list=['fc8']\n",
    "#layer_list=['fc8']\n",
    "test_input= '/Users/manoj/good_bad_placecnn/resized'+gb+'/'\n",
    "text_file = open(test_input+gb+'_list.txt', \"r\")\n",
    "lines = text_file.readlines()\n",
    "labels_file = caffe_root + 'models/placesCNN_upgraded/categoryIndex_places205.csv'\n",
    "\n",
    "for j in layer_list:\n",
    "    featurefile= open('/Users/manoj/good_bad_placecnn/features/'+gb+\"360/\"+gb+\"_\"+j+\"_360.txt\",\"w\")\n",
    "    for i in lines:  \n",
    "        i = i.rstrip('\\n')\n",
    "        img = cv2.imread(test_input+i)\n",
    "        img = transform_img(img, img_width=IMAGE_WIDTH, img_height=IMAGE_HEIGHT)\n",
    "        net.blobs['data'].data[...] = transformer.preprocess('data', img)\n",
    "        out = net.forward()\n",
    "        out_prob = out['prob']\n",
    "        label= np.loadtxt(labels_file, str, delimiter='\\t')\n",
    "        #exec(\"%s = %d\" % (layer,2))  #convert string layer to variable layer\n",
    "        layer=j\n",
    "        nparr=net.blobs[layer].data[0].reshape(1,-1)  #numpy array of feature vector in the layer \n",
    "        nparr=nparr[0]\n",
    "        list=nparr.tolist() #convert numpy array to list \n",
    "        strlist=map(str,list)\n",
    "        string=' '.join(strlist)   # convert list to a single string \n",
    "        featurefile.write(string+\"\\n\")\n",
    "    print nparr.shape\n",
    "\n"
   ]
  },
  {
   "cell_type": "code",
   "execution_count": 67,
   "metadata": {
    "collapsed": false
   },
   "outputs": [],
   "source": [
    "from sklearn.model_selection import ShuffleSplit\n",
    "from sklearn.model_selection import cross_val_score\n",
    "from sklearn import svm\n",
    "import numpy as np\n",
    "from sklearn.model_selection import train_test_split\n",
    "from sklearn.model_selection import GridSearchCV\n",
    "from sklearn.svm import SVC\n",
    "from sklearn.decomposition import PCA\n",
    "from sklearn.utils import shuffle\n",
    "\n",
    "#cv = ShuffleSplit(n_splits=10, test_size=0.1, random_state=0)"
   ]
  },
  {
   "cell_type": "code",
   "execution_count": 72,
   "metadata": {
    "collapsed": false
   },
   "outputs": [
    {
     "name": "stdout",
     "output_type": "stream",
     "text": [
      "conv1\n",
      "[ 0.77777778  0.61111111  0.86111111  0.75        0.75        0.75\n",
      "  0.77777778  0.61111111  0.63888889  0.83333333]\n",
      "0.736111111111\n",
      "conv2\n",
      "[ 0.97222222  0.91666667  0.97222222  0.91666667  0.83333333  0.91666667\n",
      "  0.94444444  0.97222222  0.86111111  0.97222222]\n",
      "0.927777777778\n",
      "conv3\n",
      "[ 0.97222222  0.97222222  1.          0.97222222  0.91666667  0.97222222\n",
      "  0.97222222  0.97222222  0.88888889  1.        ]\n",
      "0.963888888889\n",
      "conv4\n",
      "[ 0.97222222  0.97222222  1.          0.97222222  0.97222222  0.97222222\n",
      "  0.97222222  0.97222222  0.91666667  1.        ]\n",
      "0.972222222222\n",
      "conv5\n",
      "[ 1.          0.97222222  1.          0.97222222  0.97222222  0.94444444\n",
      "  0.94444444  1.          0.97222222  0.97222222]\n",
      "0.975\n",
      "fc6\n",
      "[ 1.          1.          1.          0.97222222  1.          1.\n",
      "  0.97222222  1.          1.          0.97222222]\n",
      "0.991666666667\n",
      "fc7\n",
      "[ 1.          1.          1.          0.97222222  1.          1.\n",
      "  0.97222222  1.          1.          1.        ]\n",
      "0.994444444444\n",
      "fc8\n",
      "[ 1.          1.          1.          0.97222222  1.          1.\n",
      "  0.97222222  1.          1.          1.        ]\n",
      "0.994444444444\n"
     ]
    }
   ],
   "source": [
    "#six way classification \n",
    "#final version for 360 images \n",
    "gb='good'\n",
    "layer_list=['conv1','conv2','conv3','conv4','conv5','fc6','fc7','fc8']\n",
    "clf = svm.SVC(kernel='linear', C=2.03)   \n",
    "cv = ShuffleSplit(n_splits=10, test_size=0.1, random_state=0)\n",
    "#y_good=[1]*27+[2]*31+[3]*39+[4]*46+[5]*25+[6]*42\n",
    "y_good=[1]*60+[2]*60+[3]*60+[4]*60+[5]*60+[6]*60\n",
    "y_good=np.asarray(y_good)\n",
    "#y_bad=[1]*34+[2]*39+[3]*32+[4]*31+[5]*42+[6]*32\n",
    "y_good=[1]*60+[2]*60+[3]*60+[4]*60+[5]*60+[6]*60\n",
    "y_bad=np.asarray(y_bad)\n",
    "if gb=='good':\n",
    "    y=y_good\n",
    "    for layer in layer_list:\n",
    "        list0= open('/Users/manoj/good_bad_placecnn/features/'+gb+\"360/\"+gb+\"_\"+layer+\"_360.txt\", \"r\")\n",
    "        X_good=[]\n",
    "        for line in list0:\n",
    "            #print line\n",
    "            X_good.append(line.split())\n",
    "        X_good=[[float(j) for j in i] for i in X_good]\n",
    "        X_good=np.asarray(X_good)\n",
    "        X=X_good\n",
    "        score_good=cross_val_score(clf, X, y, cv=cv)\n",
    "        print layer\n",
    "        print score_good\n",
    "        print score_good.mean()\n",
    "else:\n",
    "    y=y_bad\n",
    "    for layer in layer_list:\n",
    "        list0= open('/Users/manoj/good_bad_placecnn/features/'+gb+\"360/\"+gb+\"_\"+layer+\"_360.txt\", \"r\")\n",
    "        X_bad=[]\n",
    "        for line in list0:\n",
    "            X_bad.append(line.split())\n",
    "        X_bad=[[float(j) for j in i] for i in X_bad]\n",
    "        X_bad=np.asarray(X_bad)\n",
    "        X=X_bad\n",
    "        score_bad=cross_val_score(clf, X, y, cv=cv)\n",
    "        print layer\n",
    "        print score_bad\n",
    "        print score_bad.mean()"
   ]
  },
  {
   "cell_type": "code",
   "execution_count": 77,
   "metadata": {
    "collapsed": false
   },
   "outputs": [
    {
     "name": "stdout",
     "output_type": "stream",
     "text": [
      "(205,)\n"
     ]
    }
   ],
   "source": [
    "#extract feature vector for good exemplars\n",
    "gb='bad'\n",
    "layer_list=['fc8']\n",
    "#layer_list=['fc8']\n",
    "test_input= '/Users/manoj/good_bad_placecnn/resized'+gb+'/'\n",
    "text_file = open(test_input+gb+'_list.txt', \"r\")\n",
    "lines = text_file.readlines()\n",
    "labels_file = caffe_root + 'models/placesCNN_upgraded/categoryIndex_places205.csv'\n",
    "\n",
    "for j in layer_list:\n",
    "    featurefile= open('/Users/manoj/good_bad_placecnn/features/'+gb+\"360/\"+gb+\"_\"+j+\"_360.txt\",\"w\")\n",
    "    for i in lines:  \n",
    "        i = i.rstrip('\\n')\n",
    "        img = cv2.imread(test_input+i)\n",
    "        img = transform_img(img, img_width=IMAGE_WIDTH, img_height=IMAGE_HEIGHT)\n",
    "        net.blobs['data'].data[...] = transformer.preprocess('data', img)\n",
    "        out = net.forward()\n",
    "        out_prob = out['prob']\n",
    "        label= np.loadtxt(labels_file, str, delimiter='\\t')\n",
    "        #exec(\"%s = %d\" % (layer,2))  #convert string layer to variable layer\n",
    "        layer=j\n",
    "        nparr=net.blobs[layer].data[0].reshape(1,-1)  #numpy array of feature vector in the layer \n",
    "        nparr=nparr[0]\n",
    "        list=nparr.tolist() #convert numpy array to list \n",
    "        strlist=map(str,list)\n",
    "        string=' '.join(strlist)   # convert list to a single string \n",
    "        featurefile.write(string+\"\\n\")\n",
    "    print nparr.shape\n",
    "\n"
   ]
  },
  {
   "cell_type": "code",
   "execution_count": 25,
   "metadata": {
    "collapsed": true
   },
   "outputs": [],
   "source": [
    "from sklearn.model_selection import ShuffleSplit\n",
    "from sklearn.model_selection import cross_val_score\n",
    "from sklearn import svm\n",
    "import numpy as np\n",
    "from sklearn.model_selection import train_test_split"
   ]
  },
  {
   "cell_type": "code",
   "execution_count": 26,
   "metadata": {
    "collapsed": false
   },
   "outputs": [],
   "source": [
    "y=[1]*360+[0]*360\n",
    "y=np.asarray(y)\n",
    "y.shape\n",
    "clf = svm.SVC(kernel='linear', C=2.03)\n",
    "num_sample = 420\n",
    "cv = ShuffleSplit(n_splits=10, test_size=0.1, random_state=0)"
   ]
  },
  {
   "cell_type": "code",
   "execution_count": null,
   "metadata": {
    "collapsed": false
   },
   "outputs": [],
   "source": [
    "layer_list=['fc7']\n",
    "for layer in layer_list:\n",
    "    list1 = open('/Users/manoj/good_bad_placecnn/features/'+gb+\"360/\"+gb+\"_\"+layer+\"_360.txt\", \"r\")\n",
    "    X_good=[]\n",
    "    for line in list1 :\n",
    "        X_good.append(line.split())\n",
    "    X_good=[[float(j) for j in i] for i in X_good] \n",
    "        #del X_good[-1]\n",
    "        #X_good=np.asarray(X_good)\n",
    "    list0= open('/Users/manoj/good_bad_placecnn/features/'+gb+\"360/\"+gb+\"_\"+layer+\"_360.txt\", \"r\")\n",
    "    X_bad=[]\n",
    "    for line in list0:\n",
    "        X_bad.append(line.split())\n",
    "    X_bad=[[float(j) for j in i] for i in X_bad]\n",
    "    X_good.extend(X_bad)\n",
    "    X=np.asarray(X_good)\n",
    "    score=cross_val_score(clf, X, y, cv=cv)\n",
    "    print score.mean()"
   ]
  },
  {
   "cell_type": "code",
   "execution_count": null,
   "metadata": {
    "collapsed": true
   },
   "outputs": [],
   "source": [
    "import numpy as np\n",
    "\n",
    "layer=\n",
    "list1 = open('/Users/manoj/Desktop/featuregood'+layer, \"r\")\n",
    "X_good=[]\n",
    "for line in list1 :\n",
    "    X_good.append(line.split())\n",
    "X_good=[[float(j) for j in i] for i in X_good]\n",
    "del X_good[-1]\n",
    "X_good=np.asarray(X_good)\n",
    "X_good.shape"
   ]
  },
  {
   "cell_type": "code",
   "execution_count": 22,
   "metadata": {
    "collapsed": false
   },
   "outputs": [],
   "source": [
    "#six way classification \n",
    "gb='good'\n",
    "layer_list=[]\n",
    "clf = svm.SVC(kernel='linear', C=1)\n",
    "#num_sample = 210\n",
    "cv = ShuffleSplit(n_splits=10, test_size=0.1, random_state=0)\n",
    "y_good=[1]*27+[2]*31+[3]*39+[4]*46+[5]*25+[6]*42\n",
    "y_good=np.asarray(y_good)\n",
    "y_bad=[1]*34+[2]*39+[3]*32+[4]*31+[5]*42+[6]*32\n",
    "y_bad=np.asarray(y_bad)\n",
    "if gb=='good':\n",
    "    y=y_good\n",
    "    for layer in layer_list:\n",
    "        list0= open('/Users/manoj/good_bad_placecnn/features/'+gb+\"360/\"+gb+\"_\"+j+\"_360.txt\", \"r\")\n",
    "        X_good=[]\n",
    "        for line in list0:\n",
    "            X_good.append(line.split())\n",
    "        X_good=[[float(j) for j in i] for i in X_good]\n",
    "        X_good=np.asarray(X_bad)\n",
    "        X=X_good\n",
    "        score_good=cross_val_score(clf, X, y, cv=cv)\n",
    "        print layer\n",
    "        print score_good.mean()\n",
    "else:\n",
    "    y=y_bad\n",
    "    for layer in layer_list:\n",
    "        list0= open('/Users/manoj/Desktop/'+gb+\"/\"+gb+\"_\"+j+\".txt\", \"r\")\n",
    "        X_bad=[]\n",
    "        for line in list0:\n",
    "            X_bad.append(line.split())\n",
    "        X_bad=[[float(j) for j in i] for i in X_bad]\n",
    "        X_bad=np.asarray(X_bad)\n",
    "        X=X_bad\n",
    "        score_bad=cross_val_score(clf, X, y, cv=cv)\n",
    "        print layer\n",
    "        score_bad\n",
    "        print score_bad.mean()\n",
    "    \n"
   ]
  },
  {
   "cell_type": "code",
   "execution_count": null,
   "metadata": {
    "collapsed": true
   },
   "outputs": [],
   "source": [
    "(290400,)\n",
    "(186624,)\n",
    "(64896,)\n",
    "(64896,)\n",
    "(43264,)\n",
    "(4096,)\n",
    "(4096,)\n",
    "(205,)"
   ]
  }
 ],
 "metadata": {
  "anaconda-cloud": {},
  "kernelspec": {
   "display_name": "Python [conda root]",
   "language": "python",
   "name": "conda-root-py"
  },
  "language_info": {
   "codemirror_mode": {
    "name": "ipython",
    "version": 2
   },
   "file_extension": ".py",
   "mimetype": "text/x-python",
   "name": "python",
   "nbconvert_exporter": "python",
   "pygments_lexer": "ipython2",
   "version": "2.7.12"
  }
 },
 "nbformat": 4,
 "nbformat_minor": 1
}
